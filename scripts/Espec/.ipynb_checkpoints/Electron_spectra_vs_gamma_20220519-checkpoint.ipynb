{
 "cells": [
  {
   "cell_type": "code",
   "execution_count": 7,
   "metadata": {},
   "outputs": [
    {
     "data": {
      "text/plain": [
       "PosixPath('/data/instrument/GEMINI/2021/App20110008-1/MIRAGE')"
      ]
     },
     "execution_count": 7,
     "metadata": {},
     "output_type": "execute_result"
    }
   ],
   "source": [
    "import matplotlib, os, sys\n",
    "import matplotlib.font_manager\n",
    "from matplotlib import rcParams\n",
    "\n",
    "rcParams['font.family'] = 'serif'\n",
    "rcParams['font.serif'] = 'Times'\n",
    "rcParams['font.sans-serif'] = 'Helvetica'\n",
    "rcParams['font.cursive'] = 'Zapf Chancery'\n",
    "rcParams['font.monospace'] = 'Computer Modern Typewriter'\n",
    "\n",
    "font_size = 7\n",
    "rcParams['axes.labelsize'] = font_size\n",
    "rcParams['axes.titlesize'] = font_size\n",
    "rcParams['xtick.labelsize'] = font_size\n",
    "rcParams['ytick.labelsize'] = font_size\n",
    "rcParams['axes.titlesize'] = font_size\n",
    "rcParams['font.size'] = font_size\n",
    "rcParams['text.usetex'] = 'false'\n",
    "rcParams['text.latex.preamble']=r\"\\usepackage{amsmath}\"\n",
    "\n",
    "rcParams['axes.linewidth']= 0.5\n",
    "rcParams['lines.linewidth']= 1.0\n",
    "\n",
    "#import cv2\n",
    "import numpy as np\n",
    "import matplotlib.pyplot as plt\n",
    "from skimage.io import imread\n",
    "from scipy.io import loadmat\n",
    "from pathlib import Path\n",
    "from scipy.interpolate import interp1d, RectBivariateSpline, interp2d, CloughTocher2DInterpolator, interpn\n",
    "from scipy.integrate import cumtrapz\n",
    "from scipy.optimize import minimize\n",
    "\n",
    "sys.path.append('../../..')\n",
    "sys.path.append('../..')\n",
    "sys.path.append('../')\n",
    "\n",
    "from tqdm import tqdm\n",
    "from setup import *\n",
    "from modules.Espec import *#get_raw_image\n",
    "from lib.general_tools import imagesc, load_object, calc_COW, d, smooth_gauss\n",
    "from lib.general_tools import choose_cal_file, glob_path, get_file_path, save_object\n",
    "from lib.analysis_database import Database\n",
    "\n",
    "#from RR2021.paths import ROOT_DATA_FOLDER, CALIB_FOLDER\n",
    "#from RR2021 import PKG_DATA\n",
    "\n",
    "DATA_PATH =Path(ROOT_DATA_FOLDER)\n",
    "DATA_PATH"
   ]
  },
  {
   "cell_type": "code",
   "execution_count": 8,
   "metadata": {},
   "outputs": [
    {
     "data": {
      "text/html": [
       "<div>\n",
       "<style scoped>\n",
       "    .dataframe tbody tr th:only-of-type {\n",
       "        vertical-align: middle;\n",
       "    }\n",
       "\n",
       "    .dataframe tbody tr th {\n",
       "        vertical-align: top;\n",
       "    }\n",
       "\n",
       "    .dataframe thead th {\n",
       "        text-align: right;\n",
       "    }\n",
       "</style>\n",
       "<table border=\"1\" class=\"dataframe\">\n",
       "  <thead>\n",
       "    <tr style=\"text-align: right;\">\n",
       "      <th></th>\n",
       "      <th></th>\n",
       "      <th>img_med</th>\n",
       "      <th>img_max</th>\n",
       "    </tr>\n",
       "    <tr>\n",
       "      <th>run</th>\n",
       "      <th>shot</th>\n",
       "      <th></th>\n",
       "      <th></th>\n",
       "    </tr>\n",
       "  </thead>\n",
       "  <tbody>\n",
       "    <tr>\n",
       "      <th rowspan=\"5\" valign=\"top\">20210604/run02</th>\n",
       "      <th>1</th>\n",
       "      <td>99.0</td>\n",
       "      <td>111.0</td>\n",
       "    </tr>\n",
       "    <tr>\n",
       "      <th>2</th>\n",
       "      <td>99.0</td>\n",
       "      <td>108.0</td>\n",
       "    </tr>\n",
       "    <tr>\n",
       "      <th>3</th>\n",
       "      <td>98.0</td>\n",
       "      <td>111.0</td>\n",
       "    </tr>\n",
       "    <tr>\n",
       "      <th>4</th>\n",
       "      <td>99.0</td>\n",
       "      <td>119.0</td>\n",
       "    </tr>\n",
       "    <tr>\n",
       "      <th>5</th>\n",
       "      <td>99.0</td>\n",
       "      <td>120.0</td>\n",
       "    </tr>\n",
       "  </tbody>\n",
       "</table>\n",
       "</div>"
      ],
      "text/plain": [
       "                     img_med  img_max\n",
       "run            shot                  \n",
       "20210604/run02 1        99.0    111.0\n",
       "               2        99.0    108.0\n",
       "               3        98.0    111.0\n",
       "               4        99.0    119.0\n",
       "               5        99.0    120.0"
      ]
     },
     "execution_count": 8,
     "metadata": {},
     "output_type": "execute_result"
    }
   ],
   "source": [
    "analysis_path = Path(r'/data/analysis/GEMINI/2021/App20110008-1/Results/')\n",
    "diag = 'GammaProfile'\n",
    "database_file = analysis_path / f'{diag}_results_main.pkl'\n",
    "gammaProf_db = Database(database_file,always_load=True)\n",
    "gammaProf_db.dataframe.head()"
   ]
  },
  {
   "cell_type": "code",
   "execution_count": null,
   "metadata": {},
   "outputs": [],
   "source": [
    "s_sum = []\n",
    "for n,row in gammaProf_db.dataframe.iterrows():\n",
    "    run_name,shot = row.name\n",
    "    spectra_path = Path('/data/analysis/GEMINI/2021/App20110008-1/Results/Espec/Spectra') / run_name.replace('/','_')\n",
    "    espec_file = spectra_path / f'Shot{shot:04}_spectra.pkl'\n",
    "    if os.path.isfile(espec_file):\n",
    "        espec_data = load_object(espec_file)\n",
    "        E_MeV,y_mrad,spec1 = espec_data['E_MeV'],espec_data['y1_mrad'],espec_data['spec1']\n",
    "        s_sum.append(np.trapz(np.trapz(spec1,x=y_mrad,axis=0),x=E_MeV))\n",
    "    else:\n",
    "        s_sum.append(0.0)"
   ]
  },
  {
   "cell_type": "code",
   "execution_count": null,
   "metadata": {},
   "outputs": [],
   "source": [
    "plt.figure(figsize=np.array([8,4])/2.54,dpi=150)\n",
    "plt.plot(s_sum,'k-',lw=.1)\n",
    "plt.xlabel('Shot')\n",
    "plt.ylabel('Electron beam charge')"
   ]
  },
  {
   "cell_type": "code",
   "execution_count": null,
   "metadata": {},
   "outputs": [],
   "source": [
    "gamma_sig = gammaProf_db.dataframe['img_max'].values-gammaProf_db.dataframe['img_med'].values\n",
    "plt.plot(gamma_sig)"
   ]
  },
  {
   "cell_type": "code",
   "execution_count": null,
   "metadata": {},
   "outputs": [],
   "source": [
    "i_sort = np.argsort(gamma_sig)[::-1]\n",
    "plt.plot(gamma_sig[i_sort])"
   ]
  },
  {
   "cell_type": "code",
   "execution_count": null,
   "metadata": {},
   "outputs": [],
   "source": [
    "g_thresh = 2000\n",
    "g_max = 400000\n",
    "gamma_sort = gamma_sig[i_sort]\n",
    "g_sel = (gamma_sort>g_thresh)*(gamma_sort<g_max)\n",
    "e_sel = np.array(s_sum)>50\n",
    "N_sel = np.sum(g_sel)\n",
    "i_sel = i_sort[g_sel]\n",
    "i_sel = i_sel[e_sel[i_sel]]\n",
    "N_sel = len(i_sel)\n",
    "N_sel"
   ]
  },
  {
   "cell_type": "code",
   "execution_count": null,
   "metadata": {},
   "outputs": [],
   "source": [
    "g_zero = 100\n",
    "n = np.arange(len(gamma_sig))[(gamma_sig<g_zero)*e_sel]\n",
    "i_null=[]\n",
    "for ind in i_sel:\n",
    "\n",
    "    i_diff = np.abs(n-ind)\n",
    "    i_null.append(n[np.argmin(i_diff)])\n",
    "\n",
    "i_null"
   ]
  },
  {
   "cell_type": "code",
   "execution_count": null,
   "metadata": {},
   "outputs": [],
   "source": [
    "from PIL import Image\n",
    "from scipy.ndimage import median_filter\n",
    "\n",
    "def load_img(file_path):\n",
    "    return np.array(Image.open(file_path)).astype(float)\n",
    "bkg_img = 0\n",
    "def prep_img_file(file_path):\n",
    "    img = load_img(file_path)-bkg_img\n",
    "    img = median_filter(img,9)\n",
    "    \n",
    "    return img\n"
   ]
  },
  {
   "cell_type": "code",
   "execution_count": null,
   "metadata": {},
   "outputs": [],
   "source": [
    "\n",
    "for ind in i_sel:\n",
    "    row = gammaProf_db.dataframe.iloc[ind]\n",
    "    run_name,shot = row.name\n",
    "    print(row.name)"
   ]
  },
  {
   "cell_type": "code",
   "execution_count": null,
   "metadata": {},
   "outputs": [],
   "source": [
    "g_img_list = []\n",
    "for ind in i_sel:\n",
    "    row = gammaProf_db.dataframe.iloc[ind]\n",
    "    run_name,shot = row.name\n",
    "\n",
    "    file_path = get_file_path(diag,run_name,None,shot)\n",
    "    img = prep_img_file(file_path)\n",
    "    cx,cy = calc_COW(img,img_thresh=np.percentile(img,99.9)/2)\n",
    "    y_sel = np.arange(-200,200)+int(cy)\n",
    "    x_sel = np.arange(-200,200)+int(cx)\n",
    "    XS,YS = np.meshgrid(x_sel,y_sel)\n",
    "    img = img[YS,XS]\n",
    "    g_img_list.append(img)\n",
    "\n",
    "g_null_list = []\n",
    "for ind in i_null:\n",
    "    row = gammaProf_db.dataframe.iloc[ind]\n",
    "    run_name,shot = row.name\n",
    "\n",
    "    file_path = get_file_path(diag,run_name,None,shot)\n",
    "    img = prep_img_file(file_path)\n",
    "    cx,cy = calc_COW(img,img_thresh=np.percentile(img,99.9)/2)\n",
    "    y_sel = np.arange(-120,120)+int(cy)\n",
    "    x_sel = np.arange(-120,120)+int(cx)\n",
    "    XS,YS = np.meshgrid(x_sel,y_sel)\n",
    "    img = img[YS,XS]\n",
    "    g_null_list.append(img)"
   ]
  },
  {
   "cell_type": "markdown",
   "metadata": {},
   "source": [
    "# electron data"
   ]
  },
  {
   "cell_type": "code",
   "execution_count": null,
   "metadata": {},
   "outputs": [],
   "source": [
    "e_img_list = []\n",
    "for ind in i_sel:\n",
    "    row = gammaProf_db.dataframe.iloc[ind]\n",
    "    run_name,shot = row.name\n",
    "\n",
    "    spectra_path = Path('/data/analysis/GEMINI/2021/App20110008-1/Results/Espec/Spectra') / run_name.replace('/','_')\n",
    "    espec_file = spectra_path / f'Shot{shot:04}_spectra.pkl'\n",
    "    if os.path.isfile(espec_file):\n",
    "        espec_data = load_object(espec_file)\n",
    "        E_MeV,y_mrad,spec1 = espec_data['E_MeV'],espec_data['y1_mrad'],espec_data['spec1']\n",
    "        y0 = y_mrad[np.argmax(np.sum(spec1,axis=1))]\n",
    "        y_mrad_disp = np.linspace(-4.5,4.5,100)\n",
    "        spec_img = RectBivariateSpline(y_mrad-y0,E_MeV,spec1)(y_mrad_disp,E_MeV)\n",
    "        e_img_list.append(spec_img)\n",
    "    else:\n",
    "        e_img_list.append(spec_img*np.nan)\n",
    "\n",
    "e_null_list = []\n",
    "for ind in i_null:\n",
    "    row = gammaProf_db.dataframe.iloc[ind]\n",
    "    run_name,shot = row.name\n",
    "\n",
    "    spectra_path = Path('/data/analysis/GEMINI/2021/App20110008-1/Results/Espec/Spectra') / run_name.replace('/','_')\n",
    "    espec_file = spectra_path / f'Shot{shot:04}_spectra.pkl'\n",
    "    if os.path.isfile(espec_file):\n",
    "        espec_data = load_object(espec_file)\n",
    "        E_MeV,y_mrad,spec1 = espec_data['E_MeV'],espec_data['y1_mrad'],espec_data['spec1']\n",
    "        y0 = y_mrad[np.argmax(np.sum(spec1,axis=1))]\n",
    "        y_mrad_disp = np.linspace(-4.5,4.5,100)\n",
    "        spec_img = RectBivariateSpline(y_mrad-y0,E_MeV,spec1)(y_mrad_disp,E_MeV)\n",
    "        e_null_list.append(spec_img)\n",
    "    else:\n",
    "        e_null_list.append(spec_img*np.nan)"
   ]
  },
  {
   "cell_type": "markdown",
   "metadata": {},
   "source": [
    "# Plot results"
   ]
  },
  {
   "cell_type": "code",
   "execution_count": null,
   "metadata": {},
   "outputs": [],
   "source": [
    "N = len(i_sel)\n",
    "figsize_in = np.array([18,1*N])/2.54\n",
    "fig,axs = plt.subplots(N_sel,1,figsize=figsize_in,dpi=150)\n",
    "plt.subplots_adjust(left=0.065,right=0.92,top=0.99,bottom=0.05)\n",
    "axs = axs.flatten()\n",
    "axs_g = []\n",
    "for ax in axs:\n",
    "    ax_pos = ax.get_position()\n",
    "    ax_pos2 = [ax_pos.x0+ax_pos.width+0.02, ax_pos.y0,0.04,ax_pos.height]\n",
    "    axs_g.append(fig.add_axes(ax_pos2))\n",
    "    \n",
    "for ax,img in zip(axs_g,g_img_list):\n",
    "    ax.pcolormesh(img,vmin=0,vmax=4000,cmap='inferno')\n",
    "    ax.set_xticks([])\n",
    "    ax.set_yticks([])\n",
    "\n",
    "for n,(ax,img) in enumerate(zip(axs,e_img_list)):\n",
    "    \n",
    "    \n",
    "    row = gammaProf_db.dataframe.iloc[i_sel[n]]\n",
    "    run_name,shot = row.name\n",
    "    if np.any(np.isnan(img)):\n",
    "        ax.text(np.min(E_MeV),-4,f'{run_name}/shot{shot:03}',color='r',fontsize=5)\n",
    "    else:\n",
    "        ax.pcolormesh(E_MeV,y_mrad_disp,img/np.mean(img)*E_MeV/1e3,shading='auto',vmin=0,vmax=15)\n",
    "        ax.text(np.min(E_MeV),-4,f'{run_name}/shot{shot:03}',color='w',fontsize=5)\n",
    "        \n",
    "    ax.set_xlim([np.min(E_MeV),1200])\n",
    "    ax.set_ylim([np.min(y_mrad_disp),np.max(y_mrad_disp)])\n",
    "    ax.set_yticks([-3,3])\n",
    "    \n",
    "ax.set_xlabel(r'$E$ [MeV]')\n",
    "for ax in axs[:-1]:\n",
    "    ax.set_xticklabels([])\n",
    "    \n",
    "axs[int(N/2)].set_ylabel(r\"$y$' [mrad]\")\n",
    "\n",
    "plt.savefig('Best_hits.png',dpi=600)\n",
    "# fig.add_axes([0,0,1,1],fc='none')"
   ]
  },
  {
   "cell_type": "code",
   "execution_count": null,
   "metadata": {
    "scrolled": false
   },
   "outputs": [],
   "source": [
    "figsize_in = np.array([18,1*N_sel])/2.54\n",
    "fig,axs = plt.subplots(N_sel,1,figsize=figsize_in,dpi=150)\n",
    "plt.subplots_adjust(left=0.065,right=0.92,top=0.99,bottom=0.05)\n",
    "axs = axs.flatten()\n",
    "axs_g = []\n",
    "for ax in axs:\n",
    "    ax_pos = ax.get_position()\n",
    "    ax_pos2 = [ax_pos.x0+ax_pos.width+0.02, ax_pos.y0,0.04,ax_pos.height]\n",
    "    axs_g.append(fig.add_axes(ax_pos2))\n",
    "    \n",
    "for ax,img in zip(axs_g,g_null_list):\n",
    "    ax.pcolormesh(img,vmin=0,vmax=4000,cmap='inferno')\n",
    "    ax.set_xticks([])\n",
    "    ax.set_yticks([])\n",
    "\n",
    "for n,(ax,img) in enumerate(zip(axs,e_null_list)):\n",
    "    \n",
    "    row = gammaProf_db.dataframe.iloc[i_null[n]]\n",
    "    run_name,shot = row.name\n",
    "    if np.any(np.isnan(img)):\n",
    "        ax.text(np.min(E_MeV),-4,f'{run_name}/shot{shot:03}',color='r',fontsize=5)\n",
    "    else:\n",
    "        ax.pcolormesh(E_MeV,y_mrad_disp,img/np.mean(img)*E_MeV/1e3,shading='auto',vmin=0,vmax=15)\n",
    "        ax.text(np.min(E_MeV),-4,f'{run_name}/shot{shot:03}',color='w',fontsize=5)\n",
    "    ax.set_xlim([np.min(E_MeV),1200])\n",
    "    ax.set_ylim([np.min(y_mrad_disp),np.max(y_mrad_disp)])\n",
    "    ax.set_yticks([-3,3])\n",
    "        \n",
    "ax.set_xlabel(r'$E$ [MeV]')\n",
    "for n,ax in enumerate(axs[:-1]):\n",
    "    ax.set_xticklabels([])\n",
    "for n,ax in enumerate(axs):\n",
    "    row = gammaProf_db.dataframe.iloc[i_null[n]]\n",
    "    run_name,shot = row.name\n",
    "\n",
    "    \n",
    "axs[int(N/2)].set_ylabel(r\"$y$' [mrad]\")\n",
    "\n",
    "plt.savefig('Adjacent_nulls.png',dpi=600)"
   ]
  },
  {
   "cell_type": "code",
   "execution_count": null,
   "metadata": {},
   "outputs": [],
   "source": [
    "figsize_in = np.array([18,8])/2.54\n",
    "fig,axs = plt.subplots(1,1,figsize=figsize_in,dpi=150)\n",
    "N_plot = 20\n",
    "W = []\n",
    "for n,img in enumerate(e_img_list[:N_plot]):\n",
    "    dWdE = smooth_gauss(E_MeV,1e-3*E_MeV*np.trapz(img,x=y_mrad_disp,axis=0),10)\n",
    "    W.append(dWdE)\n",
    "    \n",
    "    if n==0:\n",
    "        plt.plot(E_MeV/1e3,dWdE,'r-',label='hits')\n",
    "    else:\n",
    "        plt.plot(E_MeV/1e3,dWdE,'r-')\n",
    "        \n",
    "    \n",
    "W_null=[]\n",
    "for n,img in enumerate(e_null_list[:N_plot]):\n",
    "    dWdE = smooth_gauss(E_MeV,1e-3*E_MeV*np.trapz(img,x=y_mrad_disp,axis=0),10)\n",
    "    W_null.append(dWdE)\n",
    "    if n==0:\n",
    "        plt.plot(E_MeV/1e3,dWdE,'k-',label='misses')\n",
    "    else:\n",
    "        plt.plot(E_MeV/1e3,dWdE,'k-')\n",
    "# plt.plot(E_MeV/1e3,np.nanmean(W_null,axis=0),'k-')\n",
    "# plt.plot(E_MeV/1e3,np.nanmean(W,axis=0),'r-')\n",
    "plt.xlim([None,1.300])\n",
    "plt.ylim([0,0.25])\n",
    "plt.xlabel(r'$E$ [GeV]')\n",
    "plt.ylabel(r'd$EW/$d$E$ [J/GeV]')\n",
    "plt.tight_layout()\n",
    "plt.legend()\n",
    "plt.savefig('Hits_vs_misses_mid.png',dpi=600)"
   ]
  },
  {
   "cell_type": "code",
   "execution_count": null,
   "metadata": {},
   "outputs": [],
   "source": [
    "W_tot = np.trapz(W,x=E_MeV/1e3,axis=1)\n",
    "W_null_tot = np.trapz(W_null,x=E_MeV/1e3,axis=1)"
   ]
  },
  {
   "cell_type": "code",
   "execution_count": null,
   "metadata": {},
   "outputs": [],
   "source": [
    "np.nanmean(W_tot)"
   ]
  },
  {
   "cell_type": "code",
   "execution_count": null,
   "metadata": {},
   "outputs": [],
   "source": [
    "np.nanstd(W_tot)/np.sqrt(np.sum(np.isfinite(W_tot)))"
   ]
  },
  {
   "cell_type": "code",
   "execution_count": null,
   "metadata": {},
   "outputs": [],
   "source": [
    "np.nanmean(W_null_tot)"
   ]
  },
  {
   "cell_type": "code",
   "execution_count": null,
   "metadata": {},
   "outputs": [],
   "source": [
    "np.nanstd(W_null_tot)/np.sqrt(np.sum(np.isfinite(W_null_tot)))"
   ]
  },
  {
   "cell_type": "code",
   "execution_count": null,
   "metadata": {},
   "outputs": [],
   "source": [
    "C_tot = np.trapz(W/E_MeV,x=E_MeV/1e3,axis=1)\n",
    "C_null_tot = np.trapz(W_null/E_MeV,x=E_MeV/1e3,axis=1)"
   ]
  },
  {
   "cell_type": "code",
   "execution_count": null,
   "metadata": {},
   "outputs": [],
   "source": [
    "np.nanmean(C_tot*1e3)"
   ]
  },
  {
   "cell_type": "code",
   "execution_count": null,
   "metadata": {},
   "outputs": [],
   "source": [
    "np.nanmean(C_null_tot*1e3)"
   ]
  },
  {
   "cell_type": "code",
   "execution_count": null,
   "metadata": {},
   "outputs": [],
   "source": [
    "np.nanstd(C_tot*1e3)"
   ]
  },
  {
   "cell_type": "code",
   "execution_count": null,
   "metadata": {},
   "outputs": [],
   "source": [
    "np.nanstd(C_null_tot*1e3)"
   ]
  },
  {
   "cell_type": "code",
   "execution_count": null,
   "metadata": {},
   "outputs": [],
   "source": [
    "W_avg = np.trapz(W,x=E_MeV,axis=1)/np.trapz(W/E_MeV,x=E_MeV,axis=1)\n",
    "W_null_avg = np.trapz(W_null,x=E_MeV,axis=1)/np.trapz(W_null/E_MeV,x=E_MeV,axis=1)\n"
   ]
  },
  {
   "cell_type": "code",
   "execution_count": null,
   "metadata": {},
   "outputs": [],
   "source": [
    "np.nanmean(W_avg)"
   ]
  },
  {
   "cell_type": "code",
   "execution_count": null,
   "metadata": {},
   "outputs": [],
   "source": [
    "np.nanstd(W_avg)/np.sqrt(np.sum(np.isfinite(W_avg)))"
   ]
  },
  {
   "cell_type": "code",
   "execution_count": null,
   "metadata": {},
   "outputs": [],
   "source": [
    "np.nanmean(W_null_avg)"
   ]
  },
  {
   "cell_type": "code",
   "execution_count": null,
   "metadata": {},
   "outputs": [],
   "source": [
    "np.nanstd(W_null_avg)/np.sqrt(np.sum(np.isfinite(W_null_avg)))"
   ]
  },
  {
   "cell_type": "code",
   "execution_count": null,
   "metadata": {},
   "outputs": [],
   "source": []
  },
  {
   "cell_type": "code",
   "execution_count": null,
   "metadata": {},
   "outputs": [],
   "source": []
  }
 ],
 "metadata": {
  "kernelspec": {
   "display_name": "Python 3",
   "language": "python",
   "name": "python3"
  },
  "language_info": {
   "codemirror_mode": {
    "name": "ipython",
    "version": 3
   },
   "file_extension": ".py",
   "mimetype": "text/x-python",
   "name": "python",
   "nbconvert_exporter": "python",
   "pygments_lexer": "ipython3",
   "version": "3.8.5"
  }
 },
 "nbformat": 4,
 "nbformat_minor": 5
}
