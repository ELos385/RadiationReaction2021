{
 "cells": [
  {
   "cell_type": "code",
   "execution_count": null,
   "metadata": {},
   "outputs": [],
   "source": [
    "#GammaSpec_fit_Ec.py\n",
    "\"\"\"\n",
    "GammaStack Image processing and spectrum fitting for Compton data,\n",
    "handles one shot at a time.\n",
    "\"\"\"\n",
    "\n",
    "import os, sys\n",
    "sys.path.append('../../')\n",
    "import numpy as np\n",
    "from scipy.interpolate import interp1d\n",
    "from scipy.optimize import least_squares, leastsq\n",
    "from scipy.special import kv, kn, expi\n",
    "from scipy.constants import e, c, epsilon_0, m_e, Boltzmann, hbar, Planck\n",
    "import math\n",
    "import matplotlib\n",
    "import matplotlib.pyplot as plt\n",
    "#import cv2\n",
    "#import emcee\n",
    "#import corner\n",
    "from scipy.ndimage import median_filter, rotate\n",
    "from scipy.io import loadmat\n",
    "from skimage.io import imread\n",
    "\n",
    "from setup import *\n",
    "from lib.general_tools import *\n",
    "from lib.pipeline import *\n",
    "from modules.GammaSpec.GammaSpecProc import *"
   ]
  },
  {
   "cell_type": "code",
   "execution_count": null,
   "metadata": {},
   "outputs": [],
   "source": [
    "diag='CsIStackTop'#'CsIStackTop'#'CsIStackSide'\n",
    "date='20210608'\n",
    "run='run10'\n",
    "shot='Shot029'\n",
    "\n",
    "# date='20210620'\n",
    "# run='run12'\n",
    "# shot='Shot041'\n",
    "\n",
    "pathT=ROOT_DATA_FOLDER+diag+'/'+date+'/'+run+'/'+shot+'.tif'\n",
    "GammaStack_Img=imread(pathT)\n",
    "\n",
    "#load crystal properties from mat file\n",
    "coords, N_crystals_X, N_crystals_Y, pos_array_X, pos_array_Y, crystal_size_XY_pxl, rot_deg=load_crystal_properties(diag)\n",
    "#load energy deposition info from mat file\n",
    "Egamma_MeV_interp, CsIEnergy_ProjZ_interp=load_Edep_info(diag)\n",
    "#load correction factor for CsI stack\n",
    "corr_factor_mean, corr_factor_se=load_correction_factor(diag)\n",
    "\n",
    "CsIStack=GammaStack(coords, N_crystals_X, N_crystals_Y, pos_array_X, pos_array_Y, crystal_size_XY_pxl, rot_deg, Egamma_MeV_interp, CsIEnergy_ProjZ_interp, corr_factor_mean, corr_factor_se, kernel=3, debug=False)\n",
    "#CsIStack.plot_contours(GammaStack_Img)\n",
    "\n",
    "measured_signal_summed_over_columns=CsIStack.get_measured_signal_summed_over_columns(GammaStack_Img)#, get_total_counts=False, get_beam_pointing=False)\n"
   ]
  },
  {
   "cell_type": "code",
   "execution_count": null,
   "metadata": {},
   "outputs": [],
   "source": [
    "#least squares fitting routine\n",
    "guess=[23.0, 1.0, 0.5]#,0.197, 0.803]\n",
    "popt, pcov=CsIStack.least_sqrs(CsIStack.calc_theoretical_Compton_signal_summed_over_columns, guess, measured_signal_summed_over_columns)\n",
    "print('Ec=%s, sigma Ec=%s'%(popt, pcov))\n",
    "#print('%s, %s'%(popt[0], popt[1]))\n",
    "\n",
    "Gamma_energy_spec=CsIStack.calc_Compton_energy_spec(popt[0], popt[1], popt[2])\n",
    "\n",
    "E_axis_test=np.linspace(5.0, 1000, 500)\n",
    "spec_test=E_axis_test**-(2.0/3.0)*np.exp(-E_axis_test/guess[0])\n",
    "E=CsIStack.Egamma_MeV_interp[0]\n",
    "print(E**-(2.0/3.0)*np.exp(-E/guess[0]))"
   ]
  },
  {
   "cell_type": "code",
   "execution_count": null,
   "metadata": {},
   "outputs": [],
   "source": [
    "#\n",
    "#plt.plot(E_axis_test, spec_test, label='E$_{crit}=%s$'%(guess[0]))\n",
    "plt.plot(CsIStack.Egamma_MeV_interp, Gamma_energy_spec, label='E$_{crit}=%s$'%(popt[0]))\n",
    "plt.xlabel('Energy (MeV)')\n",
    "plt.ylabel('$dN/d\\gamma$')\n",
    "plt.legend()\n",
    "plt.show()\n",
    "\n",
    "#predicted_signal_summed_over_columns=CsIStack.calc_theoretical_Compton_signal_summed_over_columns(None, guess[0], )#, guess[1], guess[2])\n",
    "fitted_signal_summed_over_columns=CsIStack.calc_theoretical_Compton_signal_summed_over_columns(None, popt[0], popt[1], popt[2])#, guess[1], guess[2])\n",
    "\n",
    "filter_nos=np.arange(CsIStack.N_crystals_X)\n",
    "plt.plot(filter_nos, fitted_signal_summed_over_columns, color='r', label='fitted signal summed over columns')\n",
    "plt.plot(filter_nos, measured_signal_summed_over_columns, color='b',label='measured signal summed over columns')\n",
    "plt.xlabel('filter numbers')\n",
    "plt.ylabel('normalised counts')\n",
    "plt.legend()\n",
    "plt.show()"
   ]
  }
 ],
 "metadata": {
  "kernelspec": {
   "display_name": "Python 3",
   "language": "python",
   "name": "python3"
  },
  "language_info": {
   "codemirror_mode": {
    "name": "ipython",
    "version": 3
   },
   "file_extension": ".py",
   "mimetype": "text/x-python",
   "name": "python",
   "nbconvert_exporter": "python",
   "pygments_lexer": "ipython3",
   "version": "3.8.5"
  }
 },
 "nbformat": 4,
 "nbformat_minor": 4
}
